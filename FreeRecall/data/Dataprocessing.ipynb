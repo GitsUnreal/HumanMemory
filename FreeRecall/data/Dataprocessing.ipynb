{
 "cells": [
  {
   "cell_type": "markdown",
   "id": "444be713",
   "metadata": {},
   "source": [
    "What I need in this file. Only for FreeRecall\n",
    "Confidence interval over how many errors there where made.\n",
    "Histogram that compares normal, speed, memory, and sees how many times the first number was wrong.\n",
    "Histogram that compares normal, speed, memory, and sees how many times the last number was wrong.\n",
    "Histogram that compares normal, speed, memory, errors made.\n",
    "A graph over errors made in speed\n",
    "\n",
    "Files needed\n",
    "combined_memorypattern_data.csv\n",
    "combined_normal_data.csv\n",
    "combined_speed_data.csv"
   ]
  }
 ],
 "metadata": {
  "language_info": {
   "name": "python"
  }
 },
 "nbformat": 4,
 "nbformat_minor": 5
}
